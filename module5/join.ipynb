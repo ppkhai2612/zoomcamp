{
 "cells": [
  {
   "cell_type": "markdown",
   "id": "408e5ba8",
   "metadata": {},
   "source": [
    "### SparkSession"
   ]
  },
  {
   "cell_type": "code",
   "execution_count": 17,
   "id": "106b64cb",
   "metadata": {},
   "outputs": [],
   "source": [
    "from pyspark.sql import SparkSession"
   ]
  },
  {
   "cell_type": "code",
   "execution_count": 18,
   "id": "c0571d0d",
   "metadata": {},
   "outputs": [],
   "source": [
    "spark = SparkSession.builder \\\n",
    "    .master('local[*]') \\\n",
    "    .appName('join') \\\n",
    "    .getOrCreate()"
   ]
  },
  {
   "cell_type": "markdown",
   "id": "10c00019",
   "metadata": {},
   "source": [
    "### JOIN"
   ]
  },
  {
   "cell_type": "markdown",
   "id": "19ea7437",
   "metadata": {},
   "source": [
    "#### The first JOIN"
   ]
  },
  {
   "cell_type": "code",
   "execution_count": null,
   "id": "d702e95d",
   "metadata": {},
   "outputs": [],
   "source": [
    "df_green_revenue = spark.read.parquet('data/report/revenue/green/')"
   ]
  },
  {
   "cell_type": "code",
   "execution_count": null,
   "id": "67e99b3f",
   "metadata": {},
   "outputs": [],
   "source": [
    "df_yellow_revenue = spark.read.parquet('data/report/revenue/yellow/')"
   ]
  },
  {
   "cell_type": "code",
   "execution_count": null,
   "id": "ad21fae6",
   "metadata": {},
   "outputs": [],
   "source": [
    "df_green_revenue_tmp = df_green_revenue \\\n",
    "    .withColumnRenamed('amount', 'green_amount') \\\n",
    "    .withColumnRenamed('number_records', 'green_number_records')\n",
    "df_yellow_revenue_tmp = df_yellow_revenue \\\n",
    "    .withColumnRenamed('amount', 'yellow_amount') \\\n",
    "    .withColumnRenamed('number_records', 'yellow_number_records')"
   ]
  },
  {
   "cell_type": "code",
   "execution_count": null,
   "id": "324794f5",
   "metadata": {},
   "outputs": [],
   "source": [
    "# keep all records from both DataFrames\n",
    "df_join = df_green_revenue_tmp.join(df_yellow_revenue_tmp, on=['hour', 'zone'], how='outer')"
   ]
  },
  {
   "cell_type": "code",
   "execution_count": null,
   "id": "88aa9231",
   "metadata": {},
   "outputs": [],
   "source": [
    "df_join.write.parquet('data/report/revenue/total/')"
   ]
  },
  {
   "cell_type": "markdown",
   "id": "14e00a51",
   "metadata": {},
   "source": [
    "#### The second JOIN"
   ]
  },
  {
   "cell_type": "code",
   "execution_count": 19,
   "id": "d314944f",
   "metadata": {},
   "outputs": [],
   "source": [
    "df_join = spark.read.parquet('data/report/revenue/total/')"
   ]
  },
  {
   "cell_type": "code",
   "execution_count": null,
   "id": "e93c615f",
   "metadata": {},
   "outputs": [],
   "source": [
    "df_zones = spark.read.option(\"header\", \"true\").csv('../module1/docker_sql/data/taxi_zone_lookup.csv')"
   ]
  },
  {
   "cell_type": "code",
   "execution_count": null,
   "id": "3bbfe7d1",
   "metadata": {},
   "outputs": [],
   "source": [
    "# filter records that \"zone\" column is not match to \"LocationID\" column\n",
    "df_result = df_join.join(df_zones, df_join.zone == df_zones.LocationID)"
   ]
  },
  {
   "cell_type": "code",
   "execution_count": 43,
   "id": "50e96663",
   "metadata": {},
   "outputs": [
    {
     "name": "stderr",
     "output_type": "stream",
     "text": [
      "                                                                                \r"
     ]
    }
   ],
   "source": [
    "df_result.drop('LocationID', 'zone').write.parquet('data/tmp/revenue-zones')"
   ]
  },
  {
   "cell_type": "code",
   "execution_count": 44,
   "id": "743cad96",
   "metadata": {},
   "outputs": [
    {
     "name": "stdout",
     "output_type": "stream",
     "text": [
      "+-------------------+------------+--------------------+-------------+---------------------+---------+------------+\n",
      "|               hour|green_amount|green_number_records|yellow_amount|yellow_number_records|  Borough|service_zone|\n",
      "+-------------------+------------+--------------------+-------------+---------------------+---------+------------+\n",
      "|2020-01-01 01:00:00|       15.29|                   1|         null|                 null|Manhattan|   Boro Zone|\n",
      "|2020-01-01 02:00:00|        null|                null|        15.96|                    1|Manhattan| Yellow Zone|\n",
      "|2020-01-01 02:00:00|        null|                null|         11.8|                    1|Manhattan| Yellow Zone|\n",
      "|2020-01-01 02:00:00|        null|                null|        36.09|                    2|Manhattan| Yellow Zone|\n",
      "|2020-01-01 03:00:00|        null|                null|         16.3|                    1|Manhattan| Yellow Zone|\n",
      "|2020-01-01 06:00:00|        null|                null|         17.8|                    1|Manhattan| Yellow Zone|\n",
      "|2020-01-01 06:00:00|       27.15|                   3|         13.1|                    2|Manhattan|   Boro Zone|\n",
      "|2020-01-01 06:00:00|        null|                null|         17.8|                    1|Manhattan| Yellow Zone|\n",
      "|2020-01-01 06:00:00|        null|                null|        97.59|                    5|Manhattan| Yellow Zone|\n",
      "|2020-01-01 06:00:00|        null|                null|        18.36|                    2|Manhattan| Yellow Zone|\n",
      "|2020-01-01 06:00:00|        null|                null|        17.76|                    1|Manhattan| Yellow Zone|\n",
      "|2020-01-01 06:00:00|        11.8|                   1|         null|                 null|   Queens|   Boro Zone|\n",
      "|2020-01-01 06:00:00|        6.81|                   1|         12.8|                    1|Manhattan|   Boro Zone|\n",
      "|2020-01-01 06:00:00|       29.96|                   3|         null|                 null|   Queens|   Boro Zone|\n",
      "|2020-01-01 06:00:00|        null|                null|        71.62|                    1|   Queens|    Airports|\n",
      "|2020-01-01 06:00:00|        null|                null|          5.8|                    1|Manhattan|   Boro Zone|\n",
      "|2020-01-01 06:00:00|        null|                null|        73.72|                    2|Manhattan| Yellow Zone|\n",
      "|2020-01-01 06:00:00|        null|                null|         21.3|                    1|Manhattan| Yellow Zone|\n",
      "|2020-01-01 06:00:00|        11.3|                   1|         null|                 null|    Bronx|   Boro Zone|\n",
      "|2020-01-01 07:00:00|        null|                null|          8.8|                    1| Brooklyn|   Boro Zone|\n",
      "+-------------------+------------+--------------------+-------------+---------------------+---------+------------+\n",
      "only showing top 20 rows\n",
      "\n"
     ]
    }
   ],
   "source": [
    "df_result.drop('LocationID', 'zone').show(20)"
   ]
  }
 ],
 "metadata": {
  "kernelspec": {
   "display_name": ".venv",
   "language": "python",
   "name": "python3"
  },
  "language_info": {
   "codemirror_mode": {
    "name": "ipython",
    "version": 3
   },
   "file_extension": ".py",
   "mimetype": "text/x-python",
   "name": "python",
   "nbconvert_exporter": "python",
   "pygments_lexer": "ipython3",
   "version": "3.10.12"
  }
 },
 "nbformat": 4,
 "nbformat_minor": 5
}
