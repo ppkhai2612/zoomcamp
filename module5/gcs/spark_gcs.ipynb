{
 "cells": [
  {
   "cell_type": "code",
   "execution_count": null,
   "id": "48a9fc54",
   "metadata": {},
   "outputs": [],
   "source": [
    "# library\n",
    "import pyspark\n",
    "from pyspark.sql import SparkSession\n",
    "from pyspark import SparkConf\n",
    "from pyspark import SparkContext"
   ]
  },
  {
   "cell_type": "code",
   "execution_count": null,
   "id": "39df5099",
   "metadata": {},
   "outputs": [],
   "source": [
    "# Spark configuration\n",
    "credentials = 'keys/credentials.json'\n",
    "\n",
    "conf = SparkConf() \\\n",
    "    .setMaster('local[*]') \\\n",
    "    .setAppName('spark_gcs') \\\n",
    "    .set('spark.jars', './lib/gcs-connector-hadoop3-2.2.5.jar') \\\n",
    "    .set('spark.hadoop.google.cloud.auth.service.account.enable', 'true') \\\n",
    "    .set('spark.hadoop.google.cloud.auth.service.account.json.keyfile', credentials)"
   ]
  },
  {
   "cell_type": "code",
   "execution_count": null,
   "id": "66821081",
   "metadata": {},
   "outputs": [],
   "source": [
    "# Hadoop configuration\n",
    "sc = SparkContext(conf=conf)\n",
    "\n",
    "hadoop_conf = sc._jsc.hadoopConfiguration()\n",
    "\n",
    "hadoop_conf.set('fs.AbstractFileSystem.gs.impl',  'com.google.cloud.hadoop.fs.gcs.GoogleHadoopFS')\n",
    "hadoop_conf.set('fs.gs.impl', 'com.google.cloud.hadoop.fs.gcs.GoogleHadoopFileSystem')\n",
    "hadoop_conf.set('fs.gs.auth.service.account.json.keyfile', credentials)\n",
    "hadoop_conf.set('fs.gs.auth.service.account.enable', 'true')"
   ]
  },
  {
   "cell_type": "code",
   "execution_count": null,
   "id": "744bde16",
   "metadata": {},
   "outputs": [],
   "source": [
    "# SparkSession\n",
    "spark = SparkSession.builder \\\n",
    "    .config(conf=sc.getConf()) \\\n",
    "    .getOrCreate()"
   ]
  },
  {
   "cell_type": "code",
   "execution_count": null,
   "id": "145fc456",
   "metadata": {},
   "outputs": [],
   "source": [
    "df_green = spark.read.parquet('gs://nytaxi_data-lake/pq/green/*/*')"
   ]
  },
  {
   "cell_type": "code",
   "execution_count": null,
   "id": "173f3a7b",
   "metadata": {},
   "outputs": [],
   "source": [
    "df_green.count()"
   ]
  }
 ],
 "metadata": {
  "kernelspec": {
   "display_name": ".venv",
   "language": "python",
   "name": "python3"
  },
  "language_info": {
   "codemirror_mode": {
    "name": "ipython",
    "version": 3
   },
   "file_extension": ".py",
   "mimetype": "text/x-python",
   "name": "python",
   "nbconvert_exporter": "python",
   "pygments_lexer": "ipython3",
   "version": "3.10.12"
  }
 },
 "nbformat": 4,
 "nbformat_minor": 5
}
