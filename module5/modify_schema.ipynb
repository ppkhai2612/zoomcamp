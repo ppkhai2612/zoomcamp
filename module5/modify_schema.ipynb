{
 "cells": [
  {
   "cell_type": "markdown",
   "id": "55f91997",
   "metadata": {},
   "source": [
    "### SparkSession"
   ]
  },
  {
   "cell_type": "code",
   "execution_count": null,
   "id": "00d666bb",
   "metadata": {},
   "outputs": [],
   "source": [
    "from pyspark.sql import SparkSession\n",
    "from pyspark.sql import types"
   ]
  },
  {
   "cell_type": "code",
   "execution_count": null,
   "id": "0aa4fa7c",
   "metadata": {},
   "outputs": [],
   "source": [
    "spark = SparkSession.builder \\\n",
    "    .master(\"local[*]\") \\\n",
    "    .appName('schema') \\\n",
    "    .getOrCreate()"
   ]
  },
  {
   "cell_type": "markdown",
   "id": "063b7b4f",
   "metadata": {},
   "source": [
    "### Green taxi"
   ]
  },
  {
   "cell_type": "code",
   "execution_count": null,
   "id": "51c3a737",
   "metadata": {},
   "outputs": [],
   "source": [
    "# Loop over each year\n",
    "# with each year, read each raw parquet file for each month, modify schema and write results out\n",
    "years = [2020, 2021]\n",
    "\n",
    "for year in years:\n",
    "    for month in range(1, 13):\n",
    "\n",
    "        print(f'Processing data for {year}/{month}')\n",
    "\n",
    "        input_path = f'data/parquet_raw/green/{year}/{month:02d}/'\n",
    "        output_path = f'data/parquet/green/{year}/{month:02d}/'\n",
    "\n",
    "        df_green = spark.read.parquet(input_path)\n",
    "\n",
    "        df_green = df_green \\\n",
    "            .withColumn('VendorID', df_green[\"VendorID\"].cast(types.IntegerType())) \\\n",
    "            .withColumn('RatecodeID', df_green[\"RatecodeID\"].cast(types.IntegerType())) \\\n",
    "            .withColumn('PULocationID', df_green[\"PULocationID\"].cast(types.IntegerType())) \\\n",
    "            .withColumn('DOLocationID', df_green[\"DOLocationID\"].cast(types.IntegerType())) \\\n",
    "            .withColumn('passenger_count', df_green[\"passenger_count\"].cast(types.IntegerType())) \\\n",
    "            .withColumn('ehail_fee', df_green[\"ehail_fee\"].cast(types.DoubleType())) \\\n",
    "            .withColumn('payment_type', df_green[\"payment_type\"].cast(types.IntegerType())) \\\n",
    "            .withColumn('trip_type', df_green[\"trip_type\"].cast(types.IntegerType()))\n",
    "\n",
    "        df_green \\\n",
    "            .repartition(4) \\\n",
    "            .write.mode(\"overwrite\").parquet(output_path)"
   ]
  },
  {
   "cell_type": "markdown",
   "id": "23d228ef",
   "metadata": {},
   "source": [
    "### Yellow taxi"
   ]
  },
  {
   "cell_type": "code",
   "execution_count": null,
   "id": "11df9a78",
   "metadata": {},
   "outputs": [],
   "source": [
    "# Similar to green\n",
    "years = [2020, 2021]\n",
    "\n",
    "for year in years:\n",
    "    for month in range(1, 13):\n",
    "\n",
    "        print(f'Processing data for {year}/{month}')\n",
    "\n",
    "        input_path = f'data/parquet_raw/yellow/{year}/{month:02d}/'\n",
    "        output_path = f'data/parquet/yellow/{year}/{month:02d}/'\n",
    "\n",
    "        df_yellow = spark.read.parquet(input_path)\n",
    "\n",
    "        df_yellow = df_yellow \\\n",
    "            .withColumn('VendorID', df_yellow[\"VendorID\"].cast(types.IntegerType())) \\\n",
    "            .withColumn('passenger_count', df_yellow[\"passenger_count\"].cast(types.IntegerType())) \\\n",
    "            .withColumn('RatecodeID', df_yellow[\"RatecodeID\"].cast(types.IntegerType())) \\\n",
    "            .withColumn('PULocationID', df_yellow[\"PULocationID\"].cast(types.IntegerType())) \\\n",
    "            .withColumn('DOLocationID', df_yellow[\"DOLocationID\"].cast(types.IntegerType())) \\\n",
    "            .withColumn('payment_type', df_yellow[\"payment_type\"].cast(types.IntegerType()))\n",
    "\n",
    "        df_yellow \\\n",
    "            .repartition(4) \\\n",
    "            .write.mode(\"overwrite\").parquet(output_path)"
   ]
  }
 ],
 "metadata": {
  "kernelspec": {
   "display_name": ".venv",
   "language": "python",
   "name": "python3"
  },
  "language_info": {
   "codemirror_mode": {
    "name": "ipython",
    "version": 3
   },
   "file_extension": ".py",
   "mimetype": "text/x-python",
   "name": "python",
   "nbconvert_exporter": "python",
   "pygments_lexer": "ipython3",
   "version": "3.10.12"
  }
 },
 "nbformat": 4,
 "nbformat_minor": 5
}
