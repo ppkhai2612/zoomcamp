{
 "cells": [
  {
   "cell_type": "markdown",
   "id": "217a89f4",
   "metadata": {},
   "source": [
    "dlt for normalization\n",
    "\n",
    "- Automatically detects schema – No need to define column types manually.\n",
    "- Flattens nested JSON – Converts complex structures into table-ready formats.\n",
    "- Handles data type conversion – Converts dates, numbers, and booleans correctly.\n",
    "- Splits lists into child tables – Ensures relational integrity for better analysis.\n",
    "- Schema evolution support – Adapts to changes in data structure over time."
   ]
  },
  {
   "cell_type": "code",
   "execution_count": null,
   "id": "80af59f4",
   "metadata": {},
   "outputs": [],
   "source": [
    "data = [\n",
    "    {\n",
    "        \"vendor_name\": \"VTS\",\n",
    "        \"record_hash\": \"b00361a396177a9cb410ff61f20015ad\",\n",
    "        \"time\": {\n",
    "            \"pickup\": \"2009-06-14 23:23:00\",\n",
    "            \"dropoff\": \"2009-06-14 23:48:00\"\n",
    "        },\n",
    "        \"coordinates\": {\n",
    "            \"start\": {\"lon\": -73.787442, \"lat\": 40.641525},\n",
    "            \"end\": {\"lon\": -73.980072, \"lat\": 40.742963}\n",
    "        },\n",
    "        \"passengers\": [\n",
    "            {\"name\": \"John\", \"rating\": 4.9},\n",
    "            {\"name\": \"Jack\", \"rating\": 3.9}\n",
    "        ]\n",
    "    }\n",
    "]"
   ]
  },
  {
   "cell_type": "code",
   "execution_count": null,
   "id": "2ce033b4",
   "metadata": {},
   "outputs": [],
   "source": [
    "import dlt\n",
    "\n",
    "# Define a dlt pipeline\n",
    "pipeline = dlt.pipeline(\n",
    "    pipeline_name=\"ny_taxi_data\", \n",
    "    destination=\"duckdb\",\n",
    "    dataset_name=\"taxi_rides\",\n",
    ")"
   ]
  },
  {
   "cell_type": "code",
   "execution_count": null,
   "id": "46cb9a69",
   "metadata": {},
   "outputs": [],
   "source": [
    "# Run the pipeline (create a duckdb)\n",
    "info = pipeline.run(data, table_name=\"rides\", write_disposition=\"replace\")"
   ]
  },
  {
   "cell_type": "code",
   "execution_count": null,
   "id": "0cb1a4ea",
   "metadata": {},
   "outputs": [],
   "source": [
    "# Print the infos\n",
    "print(info)\n",
    "print(pipeline.last_trace)"
   ]
  },
  {
   "cell_type": "code",
   "execution_count": null,
   "id": "456f928d",
   "metadata": {},
   "outputs": [],
   "source": [
    "# View information of 2 tables (tables in dataset (schema))\n",
    "pipeline.dataset(dataset_type=\"default\").rides.df() # main table\n",
    "pipeline.dataset(dataset_type=\"default\").rides__passengers.df() # child table"
   ]
  }
 ],
 "metadata": {
  "kernelspec": {
   "display_name": ".venv",
   "language": "python",
   "name": "python3"
  },
  "language_info": {
   "codemirror_mode": {
    "name": "ipython",
    "version": 3
   },
   "file_extension": ".py",
   "mimetype": "text/x-python",
   "name": "python",
   "nbconvert_exporter": "python",
   "pygments_lexer": "ipython3",
   "version": "3.10.12"
  }
 },
 "nbformat": 4,
 "nbformat_minor": 5
}
