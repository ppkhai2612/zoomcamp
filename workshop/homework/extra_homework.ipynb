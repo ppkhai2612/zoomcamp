{
  "cells": [
    {
      "cell_type": "code",
      "execution_count": null,
      "metadata": {
        "id": "wQGd9h3vpAjB"
      },
      "outputs": [],
      "source": [
        "# install the package (run on Google Colab)\n",
        "%%capture\n",
        "!pip install dlt[bigquery]"
      ]
    },
    {
      "cell_type": "code",
      "execution_count": null,
      "metadata": {
        "id": "SFV-3tmPpQPw"
      },
      "outputs": [],
      "source": [
        "# extract the urls from web\n",
        "import dlt\n",
        "import pandas as pd\n",
        "import requests\n",
        "from bs4 import BeautifulSoup\n",
        "from io import BytesIO\n",
        "\n",
        "url_parquet = \"https://www.nyc.gov/site/tlc/about/tlc-trip-record-data.page\"\n",
        "\n",
        "def get_parquet_urls():\n",
        "    \"\"\"Get the urls from the TLC NYC webpage data\"\"\"\n",
        "    response = requests.get(url_parquet)\n",
        "    response.raise_for_status()\n",
        "\n",
        "    soup = BeautifulSoup(response.text, \"html.parser\")\n",
        "    links = soup.find_all(\"a\", href=True)\n",
        "\n",
        "    parquet_urls = [\n",
        "        link[\"href\"] for link in links if link[\"href\"].endswith(\".parquet\")\n",
        "    ]\n",
        "\n",
        "    return parquet_urls"
      ]
    },
    {
      "cell_type": "code",
      "execution_count": null,
      "metadata": {
        "colab": {
          "base_uri": "https://localhost:8080/",
          "height": 35
        },
        "id": "omqs8JlqqQA_",
        "outputId": "091beb58-89d3-4148-d312-3e7a0eb1ecd0"
      },
      "outputs": [],
      "source": [
        "# get the urls and insert into a variable urls_list\n",
        "urls_list = get_parquet_urls()\n",
        "\n",
        "# to see the url\n",
        "urls_list[0]"
      ]
    },
    {
      "cell_type": "code",
      "execution_count": null,
      "metadata": {
        "colab": {
          "base_uri": "https://localhost:8080/"
        },
        "id": "og9TVlzaqUFu",
        "outputId": "f93baf00-848c-4d9c-8c67-e9a07804e08f"
      },
      "outputs": [],
      "source": [
        "# Insert into the parquet_urls list the yellow_tripdata from January 2024 to June 2024\n",
        "parquet_urls = [f'https://d37ci6vzurychx.cloudfront.net/trip-data/yellow_tripdata_2024-0{str(month)}.parquet' for month in range(1,7)]\n",
        "parquet_urls"
      ]
    },
    {
      "cell_type": "code",
      "execution_count": null,
      "metadata": {
        "id": "l0T-7ZJmqd1I"
      },
      "outputs": [],
      "source": [
        "# Connect to download the data\n",
        "@dlt.resource(name=\"ny_taxi_data\", write_disposition=\"replace\")\n",
        "def ny_taxi():\n",
        "\n",
        "  for url in parquet_urls:\n",
        "    response = requests.get(url)\n",
        "    response.raise_for_status()\n",
        "\n",
        "    df = pd.read_parquet(BytesIO(response.content))\n",
        "    yield df.to_dict(orient=\"records\")"
      ]
    },
    {
      "cell_type": "code",
      "execution_count": null,
      "metadata": {
        "colab": {
          "base_uri": "https://localhost:8080/",
          "height": 297
        },
        "id": "aM20rnb_qgv6",
        "outputId": "90ce0a37-fd4f-4fff-c084-c85c2e7287cc"
      },
      "outputs": [],
      "source": [
        "# declare the credentials from bigquery\n",
        "import os\n",
        "from google.colab import userdata\n",
        "\n",
        "os.environ[\"DESTINATION__BIGQUERY__CREDENTIALS\"] = userdata.get('BIGQUERY_CRED')"
      ]
    },
    {
      "cell_type": "code",
      "execution_count": null,
      "metadata": {
        "id": "DvQmq9YyqoK8"
      },
      "outputs": [],
      "source": [
        "# Create the pipeline in order to insert the data into bigquery\n",
        "pipeline = dlt.pipeline(\n",
        "    pipeline_name=\"taxi_data\",\n",
        "    destination=\"bigquery\",\n",
        "    dataset_name=\"demobigquery2612\",\n",
        "    dev_mode=True,\n",
        ")\n",
        "\n",
        "info = pipeline.run(ny_taxi)\n",
        "print(info)"
      ]
    }
  ],
  "metadata": {
    "colab": {
      "provenance": []
    },
    "kernelspec": {
      "display_name": ".venv",
      "language": "python",
      "name": "python3"
    },
    "language_info": {
      "name": "python",
      "version": "3.10.12"
    }
  },
  "nbformat": 4,
  "nbformat_minor": 0
}
