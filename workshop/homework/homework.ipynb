{
 "cells": [
  {
   "cell_type": "markdown",
   "id": "56a3c16c",
   "metadata": {},
   "source": [
    "**Dataset & API**:\n",
    "\n",
    "- Base API URL: https://us-central1-dlthub-analytics.cloudfunctions.net/data_engineering_zoomcamp_api\n",
    "- Data format: Paginated JSON (1,000 records per page)\n",
    "- API Pagination: Stop when an empty page is returned\n",
    "\n",
    "**All code in homework should be run on Google Colab**"
   ]
  },
  {
   "cell_type": "markdown",
   "id": "337a4773",
   "metadata": {},
   "source": [
    "**Question 1**: dlt Version\n",
    "\n",
    "!pip install dlt[duckdb]  \n",
    "!dlt --version\n",
    "\n",
    "=> 1.9.0"
   ]
  },
  {
   "cell_type": "markdown",
   "id": "225b6117",
   "metadata": {},
   "source": [
    "**Define & Run the Pipeline (NYC Taxi API)**\n",
    "\n",
    "Steps:\n",
    "1. Use the `@dlt.resource` decorator to define the API source\n",
    "2. Implement automatic pagination using dlt's built-in REST client\n",
    "3. Load the extracted data into DuckDB for querying"
   ]
  },
  {
   "cell_type": "code",
   "execution_count": null,
   "id": "6328642b",
   "metadata": {},
   "outputs": [],
   "source": [
    "import dlt\n",
    "from dlt.sources.helpers.rest_client import RESTClient\n",
    "from dlt.sources.helpers.rest_client.paginators import PageNumberPaginator\n",
    "\n",
    "@dlt.resource(name=\"rides\")\n",
    "def ny_taxi():\n",
    "    client = RESTClient(\n",
    "        base_url=\"https://us-central1-dlthub-analytics.cloudfunctions.net\",\n",
    "        paginator=PageNumberPaginator(\n",
    "            base_page=1,\n",
    "            total_path=None\n",
    "        )\n",
    "    )\n",
    "\n",
    "    for page in client.paginate(\"data_engineering_zoomcamp_api\"):\n",
    "        yield page\n",
    "\n",
    "\n",
    "pipeline = dlt.pipeline(\n",
    "    pipeline_name=\"ny_taxi_pipeline\",\n",
    "    destination=\"duckdb\",\n",
    "    dataset_name=\"ny_taxi_data\"\n",
    ")\n",
    "\n",
    "load_info = pipeline.run(ny_taxi)\n",
    "print(load_info)"
   ]
  },
  {
   "cell_type": "markdown",
   "id": "147d0817",
   "metadata": {},
   "source": [
    "**Question 2**: How many tables were created?\n",
    "\n",
    "=> 4"
   ]
  },
  {
   "cell_type": "code",
   "execution_count": null,
   "id": "63bd8870",
   "metadata": {},
   "outputs": [],
   "source": [
    "import duckdb\n",
    "from google.colab import data_table\n",
    "data_table.enable_dataframe_formatter()\n",
    "\n",
    "# A database '<pipeline_name>.duckdb' was created in working directory so just connect to it\n",
    "\n",
    "# Connect to the DuckDB database\n",
    "conn = duckdb.connect(f\"{pipeline.pipeline_name}.duckdb\")\n",
    "\n",
    "# Set search path to the dataset\n",
    "conn.sql(f\"SET search_path = '{pipeline.dataset_name}'\")\n",
    "\n",
    "# Describe the dataset\n",
    "conn.sql(\"DESCRIBE\").df()\n",
    "\n",
    "conn.close()"
   ]
  },
  {
   "cell_type": "markdown",
   "id": "db85fdc0",
   "metadata": {},
   "source": [
    "**Question 3**: What is the total number of records extracted?\n",
    "\n",
    "=> 10000"
   ]
  },
  {
   "cell_type": "code",
   "execution_count": null,
   "id": "3c4617d9",
   "metadata": {},
   "outputs": [],
   "source": [
    "df = pipeline.dataset(dataset_type=\"default\").rides.df()\n",
    "df"
   ]
  },
  {
   "cell_type": "markdown",
   "id": "2c704c0f",
   "metadata": {},
   "source": [
    "**Question 4**: What is the average trip duration?\n",
    "  \n",
    "=> 12.3049"
   ]
  },
  {
   "cell_type": "code",
   "execution_count": null,
   "id": "7a7c1fd5",
   "metadata": {},
   "outputs": [],
   "source": [
    "with pipeline.sql_client() as client:\n",
    "    res = client.execute_sql(\n",
    "            \"\"\"\n",
    "            SELECT\n",
    "            AVG(date_diff('minute', trip_pickup_date_time, trip_dropoff_date_time))\n",
    "            FROM rides;\n",
    "            \"\"\"\n",
    "        )\n",
    "    # Prints column values of the first row\n",
    "    print(res)"
   ]
  }
 ],
 "metadata": {
  "kernelspec": {
   "display_name": ".venv",
   "language": "python",
   "name": "python3"
  },
  "language_info": {
   "codemirror_mode": {
    "name": "ipython",
    "version": 3
   },
   "file_extension": ".py",
   "mimetype": "text/x-python",
   "name": "python",
   "nbconvert_exporter": "python",
   "pygments_lexer": "ipython3",
   "version": "3.10.12"
  }
 },
 "nbformat": 4,
 "nbformat_minor": 5
}
