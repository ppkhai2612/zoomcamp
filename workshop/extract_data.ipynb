{
 "cells": [
  {
   "cell_type": "markdown",
   "id": "dc54c529",
   "metadata": {},
   "source": [
    "### without dlt\n",
    "- Easy memory management since the API returns data in small pages or events\n",
    "- Low throughput because data transfer is limited by API constraints (rate limits, response time)"
   ]
  },
  {
   "cell_type": "code",
   "execution_count": null,
   "id": "c9c15970",
   "metadata": {},
   "outputs": [],
   "source": [
    "# Request page by page until hiting an empty page\n",
    "import requests\n",
    "\n",
    "BASE_API_URL = \"https://us-central1-dlthub-analytics.cloudfunctions.net/data_engineering_zoomcamp_api\""
   ]
  },
  {
   "cell_type": "code",
   "execution_count": null,
   "id": "2c613714",
   "metadata": {},
   "outputs": [],
   "source": [
    "# manually paginate data into pages\n",
    "def paginated_getter():\n",
    "    page_number = 1\n",
    "    while True:\n",
    "        params = {'page': page_number}\n",
    "        response = requests.get(BASE_API_URL, params=params)\n",
    "        response.raise_for_status()\n",
    "        page_json = response.json()\n",
    "        print(f'Got page {page_number} with {len(page_json)} records')\n",
    " \n",
    "        if page_json:\n",
    "            yield page_json\n",
    "            page_number += 1\n",
    "        else:\n",
    "            break"
   ]
  },
  {
   "cell_type": "code",
   "execution_count": null,
   "id": "d3f9bbb9",
   "metadata": {},
   "outputs": [],
   "source": [
    "for page_data in paginated_getter():\n",
    "    print(page_data)"
   ]
  },
  {
   "cell_type": "markdown",
   "id": "8b07f6b3",
   "metadata": {},
   "source": [
    "### with dlt\n",
    "\n",
    "- No manual pagination – dlt automatically fetches all pages of data\n",
    "- Low memory usage – Streams data chunk by chunk, avoiding RAM overflows\n",
    "- Handles rate limits & retries – Ensures requests are sent efficiently without failures\n",
    "- Flexible destination support (databases, warehouses, or data lakes)"
   ]
  },
  {
   "cell_type": "code",
   "execution_count": null,
   "id": "79f914c4",
   "metadata": {},
   "outputs": [],
   "source": [
    "import dlt\n",
    "from dlt.sources.helpers.rest_client import RESTClient\n",
    "from dlt.sources.helpers.rest_client.paginators import PageNumberPaginator"
   ]
  },
  {
   "cell_type": "code",
   "execution_count": null,
   "id": "980abe96",
   "metadata": {},
   "outputs": [],
   "source": [
    "# paginate data into pages (automatically)\n",
    "def paginated_getter():\n",
    "    client = RESTClient(\n",
    "        base_url=\"https://us-central1-dlthub-analytics.cloudfunctions.net\",\n",
    "        # Define pagination strategy - page-based pagination\n",
    "        paginator=PageNumberPaginator(   # Pages are numbered (1, 2, 3, ...)\n",
    "            base_page=1,   # Start from page 1\n",
    "            total_path=None    # No total count of pages provided by API, pagination should stop when a page contains no result items\n",
    "        )\n",
    "    )\n",
    "\n",
    "    for page in client.paginate(\"data_engineering_zoomcamp_api\"):   # API endpoint for retrieving taxi ride data\n",
    "        yield page  # remember about memory management and yield data"
   ]
  },
  {
   "cell_type": "code",
   "execution_count": null,
   "id": "0b0e1c53",
   "metadata": {},
   "outputs": [],
   "source": [
    "# print each page data\n",
    "for page_data in paginated_getter():\n",
    "    print(page_data)"
   ]
  }
 ],
 "metadata": {
  "kernelspec": {
   "display_name": ".venv",
   "language": "python",
   "name": "python3"
  },
  "language_info": {
   "codemirror_mode": {
    "name": "ipython",
    "version": 3
   },
   "file_extension": ".py",
   "mimetype": "text/x-python",
   "name": "python",
   "nbconvert_exporter": "python",
   "pygments_lexer": "ipython3",
   "version": "3.10.12"
  }
 },
 "nbformat": 4,
 "nbformat_minor": 5
}
